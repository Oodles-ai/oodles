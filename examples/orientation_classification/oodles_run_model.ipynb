{
 "cells": [
  {
   "cell_type": "code",
   "execution_count": 1,
   "metadata": {},
   "outputs": [],
   "source": [
    "import sys\n",
    "import os\n",
    "import subprocess\n",
    "import zipfile\n",
    "import numpy as np\n",
    "\n",
    "from oodles import Framework\n",
    "from oodles import Signal\n",
    "from oodles import monitor\n",
    "from oodles import ModelSignal, AnnotationMethod, Anomaly\n",
    "\n",
    "from dataset import input_to_dataset_transformation, read_json, write_json\n",
    "from model import run_real_world_inference, get_accuracy\n",
    "from pushup_signal import pushup_signal\n",
    "from train import train_model\n",
    "from contextlib import redirect_stdout\n",
    "\n",
    "orig_training_file = 'data/training_data.json'"
   ]
  },
  {
   "cell_type": "code",
   "execution_count": 2,
   "metadata": {
    "tags": []
   },
   "outputs": [],
   "source": [
    "data_dir = \"data\"\n",
    "remote_url = \"https://oodles-dev-training-data.s3.amazonaws.com/data.zip\"\n",
    "if not os.path.exists(data_dir):\n",
    "    try:\n",
    "        file_downloaded_ok = subprocess.check_output(\"wget \" + remote_url, shell=True)\n",
    "    except:\n",
    "        print(\"Could not load training data\")\n",
    "    with zipfile.ZipFile(\"data.zip\", 'r') as zip_ref:\n",
    "        zip_ref.extractall(\"./\")\n",
    "\n",
    "    full_training_data = read_json(orig_training_file)\n",
    "    np.random.seed(1)\n",
    "    np.random.shuffle(full_training_data)\n",
    "    reduced_training_data = full_training_data[0:1000]\n",
    "    write_json(orig_training_file, reduced_training_data)"
   ]
  },
  {
   "cell_type": "code",
   "execution_count": 3,
   "metadata": {},
   "outputs": [],
   "source": [
    "real_world_test_cases = 'data/real_world_testing_data.json'\n",
    "data_save_fold_name = 'oodles_smart_data'\n",
    "golden_testing_file = 'data/golden_testing_data.json'\n",
    "annotation_args = {'master_file': 'data/master_annotation_data.json'}"
   ]
  },
  {
   "cell_type": "code",
   "execution_count": 4,
   "metadata": {},
   "outputs": [
    {
     "name": "stdout",
     "output_type": "stream",
     "text": [
      "Deleting the folder:  oodles_smart_data\n"
     ]
    }
   ],
   "source": [
    "cfg = {\n",
    "    # Define your signal to identify edge cases\n",
    "    \"checks\": [{\n",
    "        'type': Anomaly.EDGE_CASE, \n",
    "        \"signal_formulae\": (Signal(\"Pushup\", pushup_signal) | Signal(ModelSignal.BINARY_ENTROPY_CONFIDENCE, \n",
    "                is_model_signal=True, extra_args={'conf_threshold': 0.8}))}],\n",
    "\n",
    "    # Connect training pipeline to annotate data and retrain the model\n",
    "    \"training_args\": {\n",
    "        \"data_transformation_func\": input_to_dataset_transformation,  \n",
    "        \"annotation_method\": {\"method\": AnnotationMethod.MASTER_FILE, \"args\": annotation_args}, \n",
    "        \"training_func\": train_model, \n",
    "        \"fold_name\": data_save_fold_name,  \n",
    "        \"orig_training_file\": orig_training_file,  \n",
    "    },\n",
    "\n",
    "    # Connect evaluation pipeline to test retrained model against original model\n",
    "    \"evaluation_args\": {\n",
    "        \"inference_func\": get_accuracy,\n",
    "        \"golden_testing_dataset\": golden_testing_file,\n",
    "        \"metrics_to_check\": ['accuracy']\n",
    "    }\n",
    "}\n",
    "\n",
    "framework = Framework(cfg)\n",
    "\n",
    "@monitor(framework)\n",
    "def model_predict(args):\n",
    "    with open('evaluation_logs.txt', 'w') as f:\n",
    "        with redirect_stdout(f):\n",
    "            return args['model'].predict(args['kps'])"
   ]
  },
  {
   "cell_type": "code",
   "execution_count": 5,
   "metadata": {},
   "outputs": [
    {
     "name": "stdout",
     "output_type": "stream",
     "text": [
      "Training on:  data/training_data.json  which has  1000  data-points\n"
     ]
    },
    {
     "name": "stderr",
     "output_type": "stream",
     "text": [
      "2022-11-12 15:46:07.308002: I tensorflow/core/platform/cpu_feature_guard.cc:193] This TensorFlow binary is optimized with oneAPI Deep Neural Network Library (oneDNN) to use the following CPU instructions in performance-critical operations:  SSE4.1 SSE4.2\n",
      "To enable them in other operations, rebuild TensorFlow with the appropriate compiler flags.\n"
     ]
    },
    {
     "name": "stdout",
     "output_type": "stream",
     "text": [
      "Epoch 1/10\n",
      "3/3 [==============================] - 1s 162ms/step - loss: 144.1491 - binary_accuracy: 0.2969\n",
      "Epoch 2/10\n",
      "3/3 [==============================] - 0s 164ms/step - loss: 129.5097 - binary_accuracy: 0.2826\n",
      "Epoch 3/10\n",
      "3/3 [==============================] - 0s 159ms/step - loss: 122.7820 - binary_accuracy: 0.2812\n",
      "Epoch 4/10\n",
      "3/3 [==============================] - 0s 159ms/step - loss: 115.3922 - binary_accuracy: 0.2773\n",
      "Epoch 5/10\n",
      "3/3 [==============================] - 0s 157ms/step - loss: 99.6909 - binary_accuracy: 0.3268\n",
      "Epoch 6/10\n",
      "3/3 [==============================] - 0s 157ms/step - loss: 92.0289 - binary_accuracy: 0.3021\n",
      "Epoch 7/10\n",
      "3/3 [==============================] - 0s 153ms/step - loss: 86.2190 - binary_accuracy: 0.3268\n",
      "Epoch 8/10\n",
      "3/3 [==============================] - 0s 162ms/step - loss: 77.0411 - binary_accuracy: 0.3594\n",
      "Epoch 9/10\n",
      "3/3 [==============================] - 0s 161ms/step - loss: 75.7920 - binary_accuracy: 0.3568\n",
      "Epoch 10/10\n",
      "3/3 [==============================] - 0s 157ms/step - loss: 66.8775 - binary_accuracy: 0.3828\n",
      "INFO:tensorflow:Assets written to: trained_models/initial_model/assets\n",
      "Model saved at:  trained_models/initial_model\n"
     ]
    }
   ],
   "source": [
    "train_model('data/training_data.json', 'initial_model')"
   ]
  },
  {
   "cell_type": "code",
   "execution_count": 6,
   "metadata": {
    "tags": []
   },
   "outputs": [
    {
     "name": "stdout",
     "output_type": "stream",
     "text": [
      "50  edge-cases collected out of  188  inferred samples\n",
      "100  edge-cases collected out of  392  inferred samples\n",
      "150  edge-cases collected out of  593  inferred samples\n",
      "200  edge-cases collected out of  805  inferred samples\n",
      "250  edge-cases collected out of  964  inferred samples\n",
      "Kicking off re-training\n",
      "251 data-points selected out of 968\n",
      "Training on:  oodles_smart_data/1/training_dataset.json  which has  2255  data-points\n",
      "Epoch 1/10\n",
      "8/8 [==============================] - 1s 162ms/step - loss: 26.7150 - binary_accuracy: 0.7158\n",
      "Epoch 2/10\n",
      "8/8 [==============================] - 1s 164ms/step - loss: 16.0787 - binary_accuracy: 0.6299\n",
      "Epoch 3/10\n",
      "8/8 [==============================] - 1s 163ms/step - loss: 13.3277 - binary_accuracy: 0.5781\n",
      "Epoch 4/10\n",
      "8/8 [==============================] - 1s 162ms/step - loss: 10.5021 - binary_accuracy: 0.6909\n",
      "Epoch 5/10\n",
      "8/8 [==============================] - 1s 162ms/step - loss: 7.1209 - binary_accuracy: 0.7354\n",
      "Epoch 6/10\n",
      "8/8 [==============================] - 1s 159ms/step - loss: 5.0428 - binary_accuracy: 0.7524\n",
      "Epoch 7/10\n",
      "8/8 [==============================] - 1s 162ms/step - loss: 3.8170 - binary_accuracy: 0.7944\n",
      "Epoch 8/10\n",
      "8/8 [==============================] - 1s 161ms/step - loss: 3.0772 - binary_accuracy: 0.8120\n",
      "Epoch 9/10\n",
      "8/8 [==============================] - 1s 157ms/step - loss: 2.7401 - binary_accuracy: 0.8384\n",
      "Epoch 10/10\n",
      "8/8 [==============================] - 1s 163ms/step - loss: 2.5479 - binary_accuracy: 0.8457\n",
      "INFO:tensorflow:Assets written to: trained_models/version_1/assets\n",
      "Model saved at:  trained_models/version_1\n",
      "Model retraining done...\n",
      "Generating comparison report...\n",
      "Training on:  data/training_data.json  which has  1000  data-points\n",
      "Epoch 1/10\n",
      "3/3 [==============================] - 1s 159ms/step - loss: 133.2166 - binary_accuracy: 0.3229\n",
      "Epoch 2/10\n",
      "3/3 [==============================] - 0s 162ms/step - loss: 118.6401 - binary_accuracy: 0.3138\n",
      "Epoch 3/10\n",
      "3/3 [==============================] - 0s 161ms/step - loss: 92.0758 - binary_accuracy: 0.3411\n",
      "Epoch 4/10\n",
      "3/3 [==============================] - 0s 153ms/step - loss: 75.0906 - binary_accuracy: 0.3516\n",
      "Epoch 5/10\n",
      "3/3 [==============================] - 0s 156ms/step - loss: 57.9562 - binary_accuracy: 0.3984\n",
      "Epoch 6/10\n",
      "3/3 [==============================] - 0s 162ms/step - loss: 45.5872 - binary_accuracy: 0.4857\n",
      "Epoch 7/10\n",
      "3/3 [==============================] - 0s 160ms/step - loss: 41.3323 - binary_accuracy: 0.6003\n",
      "Epoch 8/10\n",
      "3/3 [==============================] - 0s 160ms/step - loss: 39.9376 - binary_accuracy: 0.6745\n",
      "Epoch 9/10\n",
      "3/3 [==============================] - 0s 149ms/step - loss: 34.8183 - binary_accuracy: 0.7435\n",
      "Epoch 10/10\n",
      "3/3 [==============================] - 0s 157ms/step - loss: 38.2330 - binary_accuracy: 0.7852\n",
      "INFO:tensorflow:Assets written to: trained_models/version_0/assets\n",
      "Model saved at:  trained_models/version_0\n",
      "Evaluating on  15731  data-points\n",
      "492/492 [==============================] - 0s 348us/step\n",
      "Evaluating on  15731  data-points\n",
      "492/492 [==============================] - 0s 545us/step\n",
      "---------------------------------------------\n",
      "---------------------------------------------\n",
      "Old model accuracy:  0.7331383891678851\n",
      "Retrained model accuracy (ie 251 smartly collected data-points added):  0.7966435700209777\n",
      "---------------------------------------------\n",
      "---------------------------------------------\n",
      "50  edge-cases collected out of  1162  inferred samples\n",
      "100  edge-cases collected out of  1336  inferred samples\n",
      "150  edge-cases collected out of  1485  inferred samples\n"
     ]
    }
   ],
   "source": [
    "run_real_world_inference(real_world_test_cases, 'initial_model', model_predict)"
   ]
  },
  {
   "cell_type": "code",
   "execution_count": null,
   "metadata": {},
   "outputs": [],
   "source": []
  }
 ],
 "metadata": {
  "kernelspec": {
   "display_name": "Python 3 (ipykernel)",
   "language": "python",
   "name": "python3"
  },
  "language_info": {
   "codemirror_mode": {
    "name": "ipython",
    "version": 3
   },
   "file_extension": ".py",
   "mimetype": "text/x-python",
   "name": "python",
   "nbconvert_exporter": "python",
   "pygments_lexer": "ipython3",
   "version": "3.10.4"
  }
 },
 "nbformat": 4,
 "nbformat_minor": 4
}
