{
 "cells": [
  {
   "cell_type": "markdown",
   "metadata": {},
   "source": [
    "In this notebook, we train a model using the orientation data of people during fitness exercises. The model tries to predict whether the person is in a vertical or a horizontal position."
   ]
  },
  {
   "cell_type": "code",
   "execution_count": 1,
   "metadata": {},
   "outputs": [],
   "source": [
    "import sys\n",
    "import os\n",
    "import subprocess\n",
    "import zipfile\n",
    "import numpy as np\n",
    "\n",
    "from oodles import Framework\n",
    "from oodles import Signal\n",
    "from oodles import monitor\n",
    "from oodles import ModelSignal, AnnotationMethod, Anomaly\n",
    "\n",
    "from dataset import input_to_dataset_transformation, read_json, write_json, KpsDataset\n",
    "from pushup_signal import pushup_signal\n",
    "from contextlib import redirect_stdout\n",
    "\n",
    "import tensorflow as tf\n",
    "import joblib\n",
    "import json"
   ]
  },
  {
   "cell_type": "markdown",
   "metadata": {},
   "source": [
    "Download dataset from remote"
   ]
  },
  {
   "cell_type": "code",
   "execution_count": 2,
   "metadata": {
    "tags": []
   },
   "outputs": [],
   "source": [
    "data_dir = \"data\"\n",
    "remote_url = \"https://oodles-dev-training-data.s3.amazonaws.com/data.zip\"\n",
    "orig_training_file = 'data/training_data.json'\n",
    "if not os.path.exists(data_dir):\n",
    "    try:\n",
    "        file_downloaded_ok = subprocess.check_output(\"wget \" + remote_url, shell=True)\n",
    "    except:\n",
    "        print(\"Could not load training data\")\n",
    "    with zipfile.ZipFile(\"data.zip\", 'r') as zip_ref:\n",
    "        zip_ref.extractall(\"./\")\n",
    "\n",
    "    full_training_data = read_json(orig_training_file)\n",
    "    np.random.seed(1)\n",
    "    np.random.shuffle(full_training_data)\n",
    "    reduced_training_data = full_training_data[0:1000]\n",
    "    write_json(orig_training_file, reduced_training_data)"
   ]
  },
  {
   "cell_type": "code",
   "execution_count": 3,
   "metadata": {},
   "outputs": [],
   "source": [
    "real_world_test_cases = 'data/real_world_testing_data.json'\n",
    "data_save_fold_name = 'oodles_smart_data'\n",
    "golden_testing_file = 'data/golden_testing_data.json'\n",
    "annotation_args = {'master_file': 'data/master_annotation_data.json'}\n",
    "\n",
    "# Defining the egde-case signal\n",
    "pushup_edge_case = Signal(\"Pushup\", pushup_signal)"
   ]
  },
  {
   "cell_type": "markdown",
   "metadata": {},
   "source": [
    "### Training with Logistic Regression (LR)"
   ]
  },
  {
   "cell_type": "code",
   "execution_count": 4,
   "metadata": {},
   "outputs": [
    {
     "name": "stdout",
     "output_type": "stream",
     "text": [
      "Training on:  data/training_data.json  which has  1000  data-points\n",
      "Model saved at:  trained_models_lr/version_0\n"
     ]
    }
   ],
   "source": [
    "from model_logistic_regression import get_accuracy_lr, train_model_lr\n",
    "train_model_lr('data/training_data.json', 'version_0')"
   ]
  },
  {
   "cell_type": "markdown",
   "metadata": {},
   "source": [
    "Next, we evaluate the model on our golden testing dataset."
   ]
  },
  {
   "cell_type": "code",
   "execution_count": 5,
   "metadata": {},
   "outputs": [
    {
     "name": "stdout",
     "output_type": "stream",
     "text": [
      "Evaluating on  15731  data-points\n"
     ]
    },
    {
     "data": {
      "text/plain": [
       "0.8586231008836056"
      ]
     },
     "execution_count": 5,
     "metadata": {},
     "output_type": "execute_result"
    }
   ],
   "source": [
    "get_accuracy_lr(golden_testing_file, 'version_0')"
   ]
  },
  {
   "cell_type": "markdown",
   "metadata": {},
   "source": [
    "We observe that the testing accuracy of the model is quite low. On investigating further, we realize that it is because all pushup signals are being classified as \"vertical\" orientation. Next, we will define the oodles config with edge-case check for Pushup signals and also pass our training and evaluation arguments"
   ]
  },
  {
   "cell_type": "code",
   "execution_count": 6,
   "metadata": {},
   "outputs": [],
   "source": [
    "cfg = {\n",
    "    # Define your signal to identify edge cases\n",
    "    \"checks\": [{\n",
    "        'type': Anomaly.EDGE_CASE, \n",
    "        \"signal_formulae\": pushup_edge_case\n",
    "    }],\n",
    "\n",
    "    # Connect training pipeline to annotate data and retrain the model\n",
    "    \"training_args\": {\n",
    "        \"data_transformation_func\": input_to_dataset_transformation,  \n",
    "        \"annotation_method\": {\"method\": AnnotationMethod.MASTER_FILE, \"args\": annotation_args}, \n",
    "        \"training_func\": train_model_lr, \n",
    "        \"fold_name\": data_save_fold_name,  \n",
    "        \"orig_training_file\": orig_training_file,  \n",
    "    },\n",
    "\n",
    "    # Connect evaluation pipeline to test retrained model against original model\n",
    "    \"evaluation_args\": {\n",
    "        \"inference_func\": get_accuracy_lr,\n",
    "        \"golden_testing_dataset\": golden_testing_file,\n",
    "        \"metrics_to_check\": ['accuracy']\n",
    "    }\n",
    "}"
   ]
  },
  {
   "cell_type": "code",
   "execution_count": 7,
   "metadata": {},
   "outputs": [],
   "source": [
    "framework_lr = Framework(cfg)\n",
    "\n",
    "@monitor(framework_lr)\n",
    "def model_predict(args):\n",
    "    return args['model'].predict(args['kps'])"
   ]
  },
  {
   "cell_type": "code",
   "execution_count": 8,
   "metadata": {
    "tags": []
   },
   "outputs": [
    {
     "name": "stdout",
     "output_type": "stream",
     "text": [
      "50  edge-cases collected out of  76  inferred samples\n",
      "100  edge-cases collected out of  145  inferred samples\n",
      "150  edge-cases collected out of  224  inferred samples\n",
      "200  edge-cases collected out of  296  inferred samples\n",
      "250  edge-cases collected out of  367  inferred samples\n",
      "Kicking off re-training\n",
      "251 data-points selected out of 371\n",
      "Training on:  oodles_smart_data/1/training_dataset.json  which has  2255  data-points\n",
      "Model saved at:  trained_models_lr/version_1\n",
      "Model retraining done...\n",
      "Generating comparison report...\n",
      "Training on:  data/training_data.json  which has  1000  data-points\n",
      "Trained model exists. Skipping training again.\n",
      "Evaluating on  15731  data-points\n",
      "Evaluating on  15731  data-points\n",
      "---------------------------------------------\n",
      "---------------------------------------------\n",
      "Old model accuracy:  0.8586231008836056\n",
      "Retrained model accuracy (ie 251 smartly collected data-points added):  0.9597609815014939\n",
      "---------------------------------------------\n",
      "---------------------------------------------\n"
     ]
    }
   ],
   "source": [
    "testing_dataset = KpsDataset(real_world_test_cases, normalization=True)\n",
    "X_test, y_test, id = testing_dataset.load_x_y_from_data()\n",
    "pred_classes = []\n",
    "model = joblib.load(\"trained_models_lr/\" + 'version_0')\n",
    "for i,elem in enumerate(X_test):\n",
    "    preds = model_predict({\"model\": model, \"kps\": elem.reshape(1, -1), \"id\": [id[i]]})\n",
    "    if framework_lr.version > 1:\n",
    "        # Retrain only once\n",
    "        break"
   ]
  },
  {
   "cell_type": "markdown",
   "metadata": {},
   "source": [
    "In the comparison report above, we can see how oodles improved the model performance by detecting edge-cases and retraining the model under-the-hood. Further, Oodles is agnostic to the model type and training functions. To illustrate this, we again train our orientation classification model, but this time with Deep Neural Networks."
   ]
  },
  {
   "cell_type": "markdown",
   "metadata": {},
   "source": [
    "### Training using Deep Neural Network"
   ]
  },
  {
   "cell_type": "code",
   "execution_count": 9,
   "metadata": {},
   "outputs": [
    {
     "name": "stdout",
     "output_type": "stream",
     "text": [
      "Training on:  data/training_data.json  which has  1000  data-points\n"
     ]
    },
    {
     "name": "stderr",
     "output_type": "stream",
     "text": [
      "2022-11-17 17:20:58.363717: I tensorflow/core/platform/cpu_feature_guard.cc:193] This TensorFlow binary is optimized with oneAPI Deep Neural Network Library (oneDNN) to use the following CPU instructions in performance-critical operations:  SSE4.1 SSE4.2\n",
      "To enable them in other operations, rebuild TensorFlow with the appropriate compiler flags.\n"
     ]
    },
    {
     "name": "stdout",
     "output_type": "stream",
     "text": [
      "Epoch 1/10\n",
      "3/3 [==============================] - 1s 174ms/step - loss: 143.7527 - binary_accuracy: 0.2604\n",
      "Epoch 2/10\n",
      "3/3 [==============================] - 1s 181ms/step - loss: 129.5267 - binary_accuracy: 0.2826\n",
      "Epoch 3/10\n",
      "3/3 [==============================] - 1s 189ms/step - loss: 122.6065 - binary_accuracy: 0.2812\n",
      "Epoch 4/10\n",
      "3/3 [==============================] - 1s 167ms/step - loss: 116.1137 - binary_accuracy: 0.2943\n",
      "Epoch 5/10\n",
      "3/3 [==============================] - 1s 162ms/step - loss: 97.9835 - binary_accuracy: 0.3385\n",
      "Epoch 6/10\n",
      "3/3 [==============================] - 0s 167ms/step - loss: 92.0371 - binary_accuracy: 0.3008\n",
      "Epoch 7/10\n",
      "3/3 [==============================] - 1s 161ms/step - loss: 87.5087 - binary_accuracy: 0.3372\n",
      "Epoch 8/10\n",
      "3/3 [==============================] - 1s 166ms/step - loss: 80.9741 - binary_accuracy: 0.3333\n",
      "Epoch 9/10\n",
      "3/3 [==============================] - 1s 166ms/step - loss: 72.0179 - binary_accuracy: 0.3802\n",
      "Epoch 10/10\n",
      "3/3 [==============================] - 1s 170ms/step - loss: 66.8972 - binary_accuracy: 0.3828\n",
      "INFO:tensorflow:Assets written to: trained_models_dnn/version_0/assets\n",
      "Model saved at:  trained_models_dnn/version_0\n"
     ]
    }
   ],
   "source": [
    "from model_dnn import get_accuracy_dnn, train_model_dnn\n",
    "train_model_dnn('data/training_data.json', 'version_0')"
   ]
  },
  {
   "cell_type": "markdown",
   "metadata": {},
   "source": [
    "Next, we get the model accuracy on testing dataset, which is again low due to misclassification of Pushup signals."
   ]
  },
  {
   "cell_type": "code",
   "execution_count": 10,
   "metadata": {},
   "outputs": [
    {
     "name": "stdout",
     "output_type": "stream",
     "text": [
      "Evaluating on  15731  data-points\n",
      "492/492 [==============================] - 0s 383us/step\n"
     ]
    },
    {
     "data": {
      "text/plain": [
       "0.2280846735744708"
      ]
     },
     "execution_count": 10,
     "metadata": {},
     "output_type": "execute_result"
    }
   ],
   "source": [
    "get_accuracy_dnn(golden_testing_file, 'version_0')"
   ]
  },
  {
   "cell_type": "markdown",
   "metadata": {},
   "source": [
    "Update the Oodles config with new training workflows and checks. Let's also add a check for edge-cases when model confidence is low."
   ]
  },
  {
   "cell_type": "code",
   "execution_count": 11,
   "metadata": {},
   "outputs": [],
   "source": [
    "# Whenever model confidence is <0.8, identify it as an edge-case \n",
    "low_conf_edge_case = Signal(ModelSignal.BINARY_ENTROPY_CONFIDENCE, \n",
    "                is_model_signal=True, extra_args={'conf_threshold': 0.8})\n",
    "\n",
    "cfg['checks'][0].update({\"signal_formulae\": (pushup_edge_case | low_conf_edge_case)})\n",
    "cfg['training_args'].update({'training_func': train_model_dnn})\n",
    "cfg['evaluation_args'].update({'inference_func': get_accuracy_dnn})"
   ]
  },
  {
   "cell_type": "code",
   "execution_count": 12,
   "metadata": {},
   "outputs": [
    {
     "name": "stdout",
     "output_type": "stream",
     "text": [
      "Deleting the folder:  oodles_smart_data\n"
     ]
    }
   ],
   "source": [
    "framework_dnn = Framework(cfg)\n",
    "\n",
    "@monitor(framework_dnn)\n",
    "def model_predict(args):\n",
    "    with open('evaluation_logs.txt', 'w') as f:\n",
    "        with redirect_stdout(f):\n",
    "            return args['model'].predict(args['kps'])"
   ]
  },
  {
   "cell_type": "code",
   "execution_count": 13,
   "metadata": {},
   "outputs": [
    {
     "name": "stdout",
     "output_type": "stream",
     "text": [
      "50  edge-cases collected out of  186  inferred samples\n",
      "100  edge-cases collected out of  372  inferred samples\n",
      "150  edge-cases collected out of  575  inferred samples\n",
      "200  edge-cases collected out of  799  inferred samples\n",
      "250  edge-cases collected out of  958  inferred samples\n",
      "Kicking off re-training\n",
      "251 data-points selected out of 960\n",
      "Training on:  oodles_smart_data/1/training_dataset.json  which has  2255  data-points\n",
      "Epoch 1/10\n",
      "8/8 [==============================] - 1s 162ms/step - loss: 75.3781 - binary_accuracy: 0.5205\n",
      "Epoch 2/10\n",
      "8/8 [==============================] - 1s 164ms/step - loss: 64.3419 - binary_accuracy: 0.5068\n",
      "Epoch 3/10\n",
      "8/8 [==============================] - 1s 165ms/step - loss: 58.2991 - binary_accuracy: 0.4897\n",
      "Epoch 4/10\n",
      "8/8 [==============================] - 1s 172ms/step - loss: 49.5159 - binary_accuracy: 0.4985\n",
      "Epoch 5/10\n",
      "8/8 [==============================] - 1s 169ms/step - loss: 40.2772 - binary_accuracy: 0.5161\n",
      "Epoch 6/10\n",
      "8/8 [==============================] - 1s 162ms/step - loss: 32.4235 - binary_accuracy: 0.5552\n",
      "Epoch 7/10\n",
      "8/8 [==============================] - 1s 160ms/step - loss: 26.0855 - binary_accuracy: 0.5957\n",
      "Epoch 8/10\n",
      "8/8 [==============================] - 1s 158ms/step - loss: 21.0049 - binary_accuracy: 0.6201\n",
      "Epoch 9/10\n",
      "8/8 [==============================] - 1s 161ms/step - loss: 17.8122 - binary_accuracy: 0.6592\n",
      "Epoch 10/10\n",
      "8/8 [==============================] - 1s 161ms/step - loss: 14.1287 - binary_accuracy: 0.6997\n",
      "INFO:tensorflow:Assets written to: trained_models_dnn/version_1/assets\n",
      "Model saved at:  trained_models_dnn/version_1\n",
      "Model retraining done...\n",
      "Generating comparison report...\n",
      "Training on:  data/training_data.json  which has  1000  data-points\n",
      "Trained model exists. Skipping training again.\n",
      "Evaluating on  15731  data-points\n",
      "492/492 [==============================] - 0s 401us/step\n",
      "Evaluating on  15731  data-points\n",
      "492/492 [==============================] - 0s 359us/step\n",
      "---------------------------------------------\n",
      "---------------------------------------------\n",
      "Old model accuracy:  0.2280846735744708\n",
      "Retrained model accuracy (ie 251 smartly collected data-points added):  0.6803763269976479\n",
      "---------------------------------------------\n",
      "---------------------------------------------\n"
     ]
    }
   ],
   "source": [
    "model_dir = 'trained_models_dnn/'\n",
    "model_save_name = 'version_0'\n",
    "real_world_dataset = KpsDataset(\n",
    "    real_world_test_cases, batch_size=1, shuffle=False, augmentations=False, is_test=True\n",
    ")\n",
    "model = tf.keras.models.load_model(model_dir + model_save_name)\n",
    "for i,elem in enumerate(real_world_dataset):\n",
    "    preds = model_predict({\"model\": model, \"kps\": elem[0][\"kps\"], \"id\": elem[0][\"id\"]})\n",
    "    if framework_dnn.version > 1:\n",
    "        # Retrain only once\n",
    "        break"
   ]
  }
 ],
 "metadata": {
  "kernelspec": {
   "display_name": "Python 3 (ipykernel)",
   "language": "python",
   "name": "python3"
  },
  "language_info": {
   "codemirror_mode": {
    "name": "ipython",
    "version": 3
   },
   "file_extension": ".py",
   "mimetype": "text/x-python",
   "name": "python",
   "nbconvert_exporter": "python",
   "pygments_lexer": "ipython3",
   "version": "3.10.4"
  }
 },
 "nbformat": 4,
 "nbformat_minor": 4
}
