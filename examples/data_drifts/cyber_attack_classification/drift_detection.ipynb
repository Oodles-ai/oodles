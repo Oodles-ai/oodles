{
 "cells": [
  {
   "cell_type": "code",
   "execution_count": 1,
   "id": "7ff2ab59-8688-4431-a6b6-e00b5b22dfba",
   "metadata": {},
   "outputs": [],
   "source": [
    "import numpy as np\n",
    "import pandas as pd\n",
    "import seaborn as sns\n",
    "import matplotlib.pyplot as plt\n",
    "from xgboost import XGBClassifier\n",
    "from sklearn.model_selection import train_test_split\n",
    "from sklearn.metrics import classification_report,confusion_matrix,accuracy_score\n",
    "\n",
    "from oodles import Framework, monitor, Anomaly, DataDriftAlgo, AbstractAnomaly"
   ]
  },
  {
   "cell_type": "code",
   "execution_count": 2,
   "id": "cee0e008-c9b3-460a-990e-2716ea5483b2",
   "metadata": {},
   "outputs": [],
   "source": [
    "#Read the training and test set\n",
    "df = pd.read_csv(\"data/NSL-KDD/binary_train_test.csv\")\n",
    "X = df.iloc[:, :-1].values\n",
    "y = df.iloc[:, -1].values"
   ]
  },
  {
   "cell_type": "code",
   "execution_count": 3,
   "id": "9cffb270-0cb5-4f84-83ea-e8f195dae0fc",
   "metadata": {},
   "outputs": [],
   "source": [
    "X_train, X_test, y_train, y_test = train_test_split(X, y, train_size = 0.1, \n",
    "                                                    test_size = 0.9, \n",
    "                                                    random_state = 0,\n",
    "                                                    shuffle=False)"
   ]
  },
  {
   "cell_type": "code",
   "execution_count": 4,
   "id": "bad7ee0b-7318-4a2f-a681-81bac98547f5",
   "metadata": {},
   "outputs": [
    {
     "name": "stdout",
     "output_type": "stream",
     "text": [
      "              precision    recall  f1-score   support\n",
      "\n",
      "           0       0.94      0.99      0.96     69135\n",
      "           1       0.99      0.93      0.96     64531\n",
      "\n",
      "    accuracy                           0.96    133666\n",
      "   macro avg       0.97      0.96      0.96    133666\n",
      "weighted avg       0.96      0.96      0.96    133666\n",
      "\n",
      "Accuracy: 0.9622417069411817\n"
     ]
    },
    {
     "data": {
      "image/png": "[encoded data removed]",
      "text/plain": [
       "<Figure size 200x200 with 2 Axes>"
      ]
     },
     "metadata": {},
     "output_type": "display_data"
    }
   ],
   "source": [
    "# Xgboost algorithm\n",
    "classifier = XGBClassifier()\n",
    "classifier.fit(X_train, y_train)\n",
    "y_pred = classifier.predict(X_test)\n",
    "print(classification_report(y_test,y_pred))\n",
    "print(\"Accuracy: \" + str(accuracy_score(y_test, y_pred)))\n",
    "\n",
    "# Plot the confusion matrix\n",
    "cm=confusion_matrix(y_test,y_pred)\n",
    "f,ax=plt.subplots(figsize=(2,2))\n",
    "sns.heatmap(cm,annot=True,linewidth=0.5,linecolor=\"red\",fmt=\".0f\",ax=ax)\n",
    "plt.xlabel(\"y_pred\")\n",
    "plt.ylabel(\"y_true\")\n",
    "plt.show()"
   ]
  },
  {
   "cell_type": "markdown",
   "id": "db5c7b1d-a489-48be-9886-84421053a3fa",
   "metadata": {},
   "source": [
    "#### Define a Custom Drift Monitor"
   ]
  },
  {
   "cell_type": "code",
   "execution_count": 5,
   "id": "1322464e-0917-4f68-aa4c-214a9b6fa7c2",
   "metadata": {},
   "outputs": [],
   "source": [
    "class CustomConceptDrift(AbstractAnomaly):\n",
    "    \"\"\"\n",
    "    Defining a custom drift metric where\n",
    "    the user just want to check if accuracy \n",
    "    drops beyond a threshold.\n",
    "    \"\"\"\n",
    "    def __init__(self): \n",
    "        self.initial_acc = None       \n",
    "        self.acc_arr = []\n",
    "        self.count = 0       \n",
    "        self.thres = 0.02\n",
    "        self.window_size = 200\n",
    "        self.is_drift_detected = False\n",
    "        \n",
    "    def check(self, inputs, outputs, gts=None, extra_args={}):\n",
    "        self.count += 1\n",
    "        self.acc_arr.append(outputs[0]==gts[0])\n",
    "        if self.count == self.window_size:\n",
    "            self.initial_acc = sum(self.acc_arr)/self.window_size\n",
    "        if (self.initial_acc is not None) and (not self.is_drift_detected):\n",
    "            recent_acc = sum(self.acc_arr[-self.window_size:])/self.window_size\n",
    "            if self.initial_acc - recent_acc > self.thres:\n",
    "                print(\"Concept drift detected with custom metric at time: \", self.count)\n",
    "                self.is_drift_detected = True\n",
    "        \n",
    "    def is_data_interesting(self, inputs, outputs, gts=None, extra_args={}):\n",
    "        return False\n",
    "\n",
    "    def need_ground_truth(self):\n",
    "        return True"
   ]
  },
  {
   "cell_type": "markdown",
   "id": "4c38076d-babb-46f8-b853-fb9796faae4a",
   "metadata": {},
   "source": [
    "#### Define Prediction Function"
   ]
  },
  {
   "cell_type": "code",
   "execution_count": 6,
   "id": "1adaa6a1-9e00-4365-a886-7f1785f04f2d",
   "metadata": {},
   "outputs": [
    {
     "name": "stdout",
     "output_type": "stream",
     "text": [
      "Deleting the folder:  oodles_smart_data\n"
     ]
    }
   ],
   "source": [
    "inference_batch_size = 256\n",
    "cfg = {\n",
    "    # Define your metrics to identify data drifts\n",
    "    \"checks\": [\n",
    "        {\n",
    "        'type': Anomaly.CONCEPT_DRIFT,\n",
    "        'algorithm': DataDriftAlgo.DDM,\n",
    "        'warn_thres': 2,\n",
    "        'alarm_thres': 3,\n",
    "        },\n",
    "        {\n",
    "        'type': Anomaly.CUSTOM_MONITOR,\n",
    "        'algorithm': CustomConceptDrift,\n",
    "        'need_gt': True,\n",
    "        },\n",
    "    ], \n",
    "    \"batch_size\": inference_batch_size,\n",
    "    \"training_args\": {\n",
    "        \"fold_name\": 'oodles_smart_data', \n",
    "    }\n",
    "}\n",
    "        \n",
    "framework = Framework(cfg)\n",
    "\n",
    "@monitor(framework)\n",
    "def model_predict(args):\n",
    "    return args['model'].predict(args['X_test'])"
   ]
  },
  {
   "cell_type": "markdown",
   "id": "b8964a1d-801e-4c25-ba00-0920b2dc12d0",
   "metadata": {},
   "source": [
    "#### Check for Data Drift with DDM"
   ]
  },
  {
   "cell_type": "code",
   "execution_count": 7,
   "id": "ec793e01-fe2a-4ee0-b258-968936853950",
   "metadata": {},
   "outputs": [
    {
     "name": "stderr",
     "output_type": "stream",
     "text": [
      "/Users/vipul/opt/anaconda3/envs/tensorflow_env/lib/python3.10/site-packages/oodles-0.1.dev0-py3.10.egg/oodles/core/classes/framework.py:341: FutureWarning: elementwise comparison failed; returning scalar instead, but in the future will perform elementwise comparison\n"
     ]
    },
    {
     "name": "stdout",
     "output_type": "stream",
     "text": [
      "Concept drift detected with custom metric at time:  111156\n",
      "Drift detected with DDM at time:  111298\n"
     ]
    }
   ],
   "source": [
    "y_preds = np.zeros(y_test.shape)\n",
    "time_pred = []\n",
    "time_gt = []\n",
    "for i in range(int(len(X_test)/inference_batch_size)):\n",
    "    inputs = {'model': classifier, \n",
    "              'X_test': X_test[i*inference_batch_size:(i+1)*inference_batch_size]}\n",
    "    \n",
    "    y_pred, idens = model_predict(inputs)\n",
    "    y_preds[i*inference_batch_size:(i+1)*inference_batch_size] = y_pred\n",
    "    framework.attach_ground_truth({'identifier': idens, \n",
    "                                   'gt': y_test[i*inference_batch_size:(i+1)*inference_batch_size]})\n",
    "\n",
    "    # Retrain only once\n",
    "    if framework.version > 1:\n",
    "        break"
   ]
  },
  {
   "cell_type": "markdown",
   "id": "98149437-3f72-4db7-86ce-ce93d8815d51",
   "metadata": {},
   "source": [
    "#### Plotting observed accuracy with time to check location of drifts"
   ]
  },
  {
   "cell_type": "code",
   "execution_count": 8,
   "id": "444ec815-f7d5-4946-bfbc-7286a2ed76cb",
   "metadata": {},
   "outputs": [
    {
     "data": {
      "image/png": "[encoded data removed]",
      "text/plain": [
       "<Figure size 1000x300 with 1 Axes>"
      ]
     },
     "metadata": {},
     "output_type": "display_data"
    }
   ],
   "source": [
    "# Define accuracy over time\n",
    "acc = np.cumsum(y_preds==y_test)/np.arange(1,len(y_preds)+1)\n",
    "\n",
    "# Plot the accuracy changes\n",
    "plt.rcParams.update({'font.size': 10})\n",
    "plt.figure(1,figsize=(10,3)) \n",
    "plt.clf() \n",
    "plt.plot(acc,'-b',label='Accuracy')\n",
    "\n",
    "plt.legend(loc='best')\n",
    "plt.xlabel('Timestamp')\n",
    "plt.ylabel('Accuracy')\n",
    "\n",
    "plt.draw()"
   ]
  },
  {
   "cell_type": "markdown",
   "id": "3271933b-2c79-4000-85f2-a47d0f927033",
   "metadata": {},
   "source": [
    "From the above plot, we can observe a data drift around the timestamp of 111k, which is also predicted by our drift monitors."
   ]
  }
 ],
 "metadata": {
  "kernelspec": {
   "display_name": "Python 3 (ipykernel)",
   "language": "python",
   "name": "python3"
  },
  "language_info": {
   "codemirror_mode": {
    "name": "ipython",
    "version": 3
   },
   "file_extension": ".py",
   "mimetype": "text/x-python",
   "name": "python",
   "nbconvert_exporter": "python",
   "pygments_lexer": "ipython3",
   "version": "3.10.4"
  },
  "vscode": {
   "interpreter": {
    "hash": "9545c455b197f2a904e8a44b25c9f43f9436523cf18f2465849be78ad0c6016f"
   }
  }
 },
 "nbformat": 4,
 "nbformat_minor": 5
}
